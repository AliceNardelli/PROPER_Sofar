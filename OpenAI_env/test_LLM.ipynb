{
 "cells": [
  {
   "cell_type": "code",
   "execution_count": 1,
   "metadata": {},
   "outputs": [],
   "source": [
    "import requests\n",
    "\n",
    "\n",
    "headers= {'Content-Type':'application/json'}\n"
   ]
  },
  {
   "cell_type": "code",
   "execution_count": 25,
   "metadata": {},
   "outputs": [],
   "source": [
    "url='http://127.0.0.1:5018/'\n",
    "data={\n",
    "    \"emotion\":\"Sad\",\n",
    "    \"action\":\"pass the turn\",\n",
    "    \"response_style\":\"Rude\",\n",
    "    \"selected_personality\":\"Disagreeable\",\n",
    "    \"limit_response\":\"False\",\n",
    "    \"response\":\"\",\n",
    "}\n",
    "resp=requests.put(url+'run_completion', json=data, headers=headers)"
   ]
  },
  {
   "cell_type": "code",
   "execution_count": 28,
   "metadata": {},
   "outputs": [
    {
     "data": {
      "text/plain": [
       "'Bene, è il tuo turno di giocare. Spero che tu non rovini tutto come al solito.'"
      ]
     },
     "execution_count": 28,
     "metadata": {},
     "output_type": "execute_result"
    }
   ],
   "source": [
    "eval(resp.text)[\"response\"]"
   ]
  },
  {
   "cell_type": "code",
   "execution_count": 34,
   "metadata": {},
   "outputs": [],
   "source": [
    "from gtts import gTTS \n",
    "import subprocess \n",
    "import os\n",
    "\n"
   ]
  },
  {
   "cell_type": "code",
   "execution_count": 47,
   "metadata": {},
   "outputs": [
    {
     "name": "stdout",
     "output_type": "stream",
     "text": [
      "tutto fatto, file salvato!\n"
     ]
    }
   ],
   "source": [
    "text =eval(resp.text)[\"response\"]\n",
    "tts = gTTS(text=text, lang='it', slow=False)\n",
    "tts.save(\"temp.mp3\")\n",
    "print(\"tutto fatto, file salvato!\")\n"
   ]
  },
  {
   "cell_type": "code",
   "execution_count": 3,
   "metadata": {},
   "outputs": [],
   "source": [
    "import pygame\n",
    "\n",
    "# Initialize pygame\n",
    "pygame.init()\n",
    "\n",
    "# Load the MP3 file\n",
    "pygame.mixer.music.load('/home/alice/bepp.mp3')\n",
    "\n",
    "# Play the MP3 file\n",
    "pygame.mixer.music.play()\n",
    "\n",
    "# Wait for the music to finish playing\n",
    "while pygame.mixer.music.get_busy():\n",
    "    pygame.time.Clock().tick(10)\n"
   ]
  },
  {
   "cell_type": "code",
   "execution_count": 59,
   "metadata": {},
   "outputs": [
    {
     "ename": "TypeError",
     "evalue": "Sound takes either 1 positional or 1 keyword argument",
     "output_type": "error",
     "traceback": [
      "\u001b[0;31m---------------------------------------------------------------------------\u001b[0m",
      "\u001b[0;31mTypeError\u001b[0m                                 Traceback (most recent call last)",
      "Cell \u001b[0;32mIn[59], line 15\u001b[0m\n\u001b[1;32m     12\u001b[0m pygame\u001b[38;5;241m.\u001b[39mmixer\u001b[38;5;241m.\u001b[39mpre_init(\u001b[38;5;241m44100\u001b[39m, \u001b[38;5;241m-\u001b[39m\u001b[38;5;241m16\u001b[39m, \u001b[38;5;241m1\u001b[39m, \u001b[38;5;241m512\u001b[39m)  \u001b[38;5;66;03m# Initialize mixer with a 44.1kHz sampling rate\u001b[39;00m\n\u001b[1;32m     14\u001b[0m \u001b[38;5;66;03m# Create a simple beep sound\u001b[39;00m\n\u001b[0;32m---> 15\u001b[0m beep_sound \u001b[38;5;241m=\u001b[39m \u001b[43mpygame\u001b[49m\u001b[38;5;241;43m.\u001b[39;49m\u001b[43mmixer\u001b[49m\u001b[38;5;241;43m.\u001b[39;49m\u001b[43mSound\u001b[49m\u001b[43m(\u001b[49m\u001b[43mfrequency\u001b[49m\u001b[38;5;241;43m=\u001b[39;49m\u001b[43mfrequency\u001b[49m\u001b[43m,\u001b[49m\u001b[43m \u001b[49m\u001b[43mduration\u001b[49m\u001b[38;5;241;43m=\u001b[39;49m\u001b[43mduration\u001b[49m\u001b[43m)\u001b[49m\n\u001b[1;32m     17\u001b[0m \u001b[38;5;66;03m# Play the beep sound\u001b[39;00m\n\u001b[1;32m     18\u001b[0m beep_sound\u001b[38;5;241m.\u001b[39mplay()\n",
      "\u001b[0;31mTypeError\u001b[0m: Sound takes either 1 positional or 1 keyword argument"
     ]
    }
   ],
   "source": [
    "import pygame\n",
    "\n",
    "# Initialize Pygame\n",
    "pygame.init()\n",
    "\n",
    "# Set the parameters for the beep sound\n",
    "frequency = 1000  # Hz (adjust as needed)\n",
    "duration = 100  # milliseconds (adjust as needed)\n",
    "\n",
    "# Set the audio channels and frequency\n",
    "pygame.mixer.set_num_channels(1)\n",
    "pygame.mixer.pre_init(44100, -16, 1, 512)  # Initialize mixer with a 44.1kHz sampling rate\n",
    "\n",
    "# Create a simple beep sound\n",
    "beep_sound = pygame.mixer.Sound(frequency=frequency, duration=duration)\n",
    "\n",
    "# Play the beep sound\n",
    "beep_sound.play()\n",
    "\n",
    "# Wait for the sound to finish (optional)\n",
    "pygame.time.wait(duration)\n",
    "\n",
    "# Close Pygame\n",
    "pygame.quit()\n"
   ]
  },
  {
   "cell_type": "code",
   "execution_count": null,
   "metadata": {},
   "outputs": [],
   "source": []
  }
 ],
 "metadata": {
  "kernelspec": {
   "display_name": "Python 3",
   "language": "python",
   "name": "python3"
  },
  "language_info": {
   "codemirror_mode": {
    "name": "ipython",
    "version": 3
   },
   "file_extension": ".py",
   "mimetype": "text/x-python",
   "name": "python",
   "nbconvert_exporter": "python",
   "pygments_lexer": "ipython3",
   "version": "3.8.10"
  }
 },
 "nbformat": 4,
 "nbformat_minor": 2
}
