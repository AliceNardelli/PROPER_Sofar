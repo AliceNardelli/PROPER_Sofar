{
 "cells": [
  {
   "cell_type": "code",
   "execution_count": 1,
   "metadata": {},
   "outputs": [],
   "source": [
    "#action1 avvicinarsi\n",
    "#action2 esprimere gioia\n",
    "#action3 consolare\n",
    "#action4 fare pace\n",
    "#bit 1 0:not touch 1 bouch\n",
    "#bit 2,3 00:neutral 01:sad 10:angry 11:happydict={}\n",
    "#agreeable personality\n",
    "from proper_lpg.load_ontology import *\n",
    "import random\n",
    "import numpy as np"
   ]
  },
  {
   "cell_type": "code",
   "execution_count": 2,
   "metadata": {},
   "outputs": [],
   "source": [
    "actions=[\"a1\",\"a2\",\"a3\",\"a4\"]"
   ]
  },
  {
   "cell_type": "code",
   "execution_count": 3,
   "metadata": {},
   "outputs": [],
   "source": [
    "\n",
    "zzz={\"a1\":{\"w1\":4,\"w2\":2,\"expected_outcome\":[0,1,1]},\n",
    "     \"a2\":{\"w1\":4,\"w2\":2,\"expected_outcome\":[0,1,1]},\n",
    "     \"a3\":{\"w1\":2,\"w2\":1,\"expected_outcome\":[0,1,1]},\n",
    "     \"a4\":{\"w1\":0.0,\"w2\":0.0,\"expected_outcome\":[0,0,0]},\n",
    "     }\n",
    "\n",
    "zzo={\"a1\":{\"w1\":2,\"w2\":1,\"expected_outcome\":[0,1,1]},\n",
    "     \"a2\":{\"w1\":2,\"w2\":1,\"expected_outcome\":[0,1,1]},\n",
    "     \"a3\":{\"w1\":4,\"w2\":2,\"expected_outcome\":[0,1,1]},\n",
    "     \"a4\":{\"w1\":0.0,\"w2\":0.0,\"expected_outcome\":[0,0,0]},\n",
    "     }\n",
    "\n",
    "zoz={\"a1\":{\"w1\":2,\"w2\":1,\"expected_outcome\":[0,1,1]},\n",
    "     \"a2\":{\"w1\":2,\"w2\":1,\"expected_outcome\":[0,1,1]},\n",
    "     \"a3\":{\"w1\":0.0,\"w2\":0.0,\"expected_outcome\":[0,1,1]},\n",
    "     \"a4\":{\"w1\":4,\"w2\":2,\"expected_outcome\":[0,1,1]},\n",
    "     }\n",
    "\n",
    "zoo={\"a1\":{\"w1\":2,\"w2\":1,\"expected_outcome\":[0,1,1]},\n",
    "     \"a2\":{\"w1\":4,\"w2\":2,\"expected_outcome\":[0,1,1]},\n",
    "     \"a3\":{\"w1\":0.0,\"w2\":0.0,\"expected_outcome\":[0,1,1]},\n",
    "     \"a4\":{\"w1\":0.0,\"w2\":0.0,\"expected_outcome\":[0,1,1]},\n",
    "     }\n",
    "\n",
    "ozz={\"a1\":{\"w1\":4,\"w2\":2,\"expected_outcome\":[1,1,1]},\n",
    "     \"a2\":{\"w1\":2,\"w2\":1,\"expected_outcome\":[0,1,1]},\n",
    "     \"a3\":{\"w1\":2,\"w2\":1,\"expected_outcome\":[0,1,1]},\n",
    "     \"a4\":{\"w1\":0.0,\"w2\":0.0,\"expected_outcome\":[0,0,0]},\n",
    "     }\n",
    "\n",
    "ozo={\"a1\":{\"w1\":2,\"w2\":1,\"expected_outcome\":[1,1,1]},\n",
    "     \"a2\":{\"w1\":0.0,\"w2\":0.0,\"expected_outcome\":[0,1,1]},\n",
    "     \"a3\":{\"w1\":4,\"w2\":2,\"expected_outcome\":[0,1,1]},\n",
    "     \"a4\":{\"w1\":0.0,\"w2\":0.0,\"expected_outcome\":[0,0,0]},\n",
    "     }\n",
    "\n",
    "ooz={\"a1\":{\"w1\":2,\"w2\":1,\"expected_outcome\":[0,1,1]},\n",
    "     \"a2\":{\"w1\":0.0,\"w2\":0.0,\"expected_outcome\":[0,1,1]},\n",
    "     \"a3\":{\"w1\":0.0,\"w2\":0.0,\"expected_outcome\":[0,1,1]},\n",
    "     \"a4\":{\"w1\":4,\"w2\":2,\"expected_outcome\":[0,1,1]},\n",
    "     }\n",
    "\n",
    "ooo={\"a1\":{\"w1\":2,\"w2\":1,\"expected_outcome\":[1,1,1]},\n",
    "     \"a2\":{\"w1\":4,\"w2\":2,\"expected_outcome\":[0,1,1]},\n",
    "     \"a3\":{\"w1\":0,\"w2\":0,\"expected_outcome\":[0,1,1]},\n",
    "     \"a4\":{\"w1\":0,\"w2\":0,\"expected_outcome\":[0,1,1]},\n",
    "     }\n"
   ]
  },
  {
   "cell_type": "code",
   "execution_count": 4,
   "metadata": {},
   "outputs": [],
   "source": [
    "\n",
    "agreeableness_dict={\n",
    "    \"NT_N\":{\"weights\":zzz,\"num\":[0,0,0]},\n",
    "    \"NT_S\":{\"weights\":zzo,\"num\":[0,0,1]},\n",
    "    \"NT_A\":{\"weights\":zoz,\"num\":[0,1,0]},\n",
    "    \"NT_H\":{\"weights\":zoo,\"num\":[0,1,1]},\n",
    "    \"T_N\":{\"weights\":ozz,\"num\":[1,0,0]},\n",
    "    \"T_S\":{\"weights\":ozo,\"num\":[1,0,1]},\n",
    "    \"T_A\":{\"weights\":ooz,\"num\":[1,1,0]},\n",
    "    \"T_H\":{\"weights\":ooo,\"num\":[1,1,1]}\n",
    "}"
   ]
  },
  {
   "cell_type": "code",
   "execution_count": 5,
   "metadata": {},
   "outputs": [],
   "source": [
    "def choose_action(perception):\n",
    "    w=[]\n",
    "    for a in actions:\n",
    "        weight=agreeableness_dict[perception][\"weights\"][a][\"w1\"]+agreeableness_dict[perception][\"weights\"][a][\"w2\"]\n",
    "        w.append(float(weight))\n",
    "\n",
    "    print(w[0])\n",
    "    #print(w, sum(w),type(sum(w)))\n",
    "    norm = [i/sum(w) for i in w]\n",
    "    print(norm)\n",
    "    to_execute=np.random.choice(actions,p=norm) #trovare il modo di normalizzare i pesi\n",
    "    return to_execute, agreeableness_dict[perception][\"weights\"][to_execute][\"w1\"]+agreeableness_dict[perception][\"weights\"][to_execute][\"w2\"]"
   ]
  },
  {
   "cell_type": "code",
   "execution_count": 6,
   "metadata": {},
   "outputs": [],
   "source": [
    "def update_weights(action, p_prev, p_after):\n",
    "    list_real=agreeableness_dict[p_after][\"num\"]\n",
    "    list_expected=agreeableness_dict[p_prev][\"weights\"][action][\"expected_outcome\"]\n",
    "    error=0\n",
    "    #accumulate the error between the perception and the expected one\n",
    "    for i in range(0,len(list_real)):\n",
    "        error+=(np.abs(list_real[i]-list_expected[i]))\n",
    "    #normalize the error\n",
    "    error=error/len(list_real)\n",
    "    #update the weights\n",
    "    prev=agreeableness_dict[p_prev][\"weights\"][action][\"w2\"]\n",
    "    print(\"PREV\", prev)\n",
    "    if error==0:\n",
    "        agreeableness_dict[p_prev][\"weights\"][action][\"w2\"]=np.abs(prev+0.1)\n",
    "        print(\"AFTER\", np.abs(prev+0.1))\n",
    "        return prev + 0.1\n",
    "    else:\n",
    "        if prev<0.1:\n",
    "            print(\"AFTER\", prev)\n",
    "            return  prev\n",
    "        else:\n",
    "           agreeableness_dict[p_prev][\"weights\"][action][\"w2\"]=np.abs(prev-0.1)\n",
    "           print(\"AFTER\", np.abs(prev-0.1))\n",
    "           return prev - 0.1\n",
    "        "
   ]
  },
  {
   "cell_type": "code",
   "execution_count": 7,
   "metadata": {},
   "outputs": [
    {
     "data": {
      "text/plain": [
       "'\\nto_exec=choose_action(\"NT_N\")\\nprint(to_exec)\\n\\nupdate_weights(to_exec,\"NT_N\",\"NT_N\")\\n\\n'"
      ]
     },
     "execution_count": 7,
     "metadata": {},
     "output_type": "execute_result"
    }
   ],
   "source": [
    "\"\"\"\n",
    "to_exec=choose_action(\"NT_N\")\n",
    "print(to_exec)\n",
    "\n",
    "update_weights(to_exec,\"NT_N\",\"NT_N\")\n",
    "\n",
    "\"\"\""
   ]
  },
  {
   "cell_type": "code",
   "execution_count": 8,
   "metadata": {},
   "outputs": [],
   "source": [
    "traits=[\"Extrovert\",\"Introvert\",\"Conscientious\",\"Unscrupulous\",\"Agreeable\",\"Disagreeable\"]\n",
    "traits_preds=[\"(extro)\",\"(intro)\",\"(consc)\",\"(unsc)\",\"(agree)\",\"(disagree)\"]\n",
    "we=0\n",
    "wi=0\n",
    "wc=0\n",
    "wu=0\n",
    "wa=1\n",
    "wd=0\n",
    "s=we +wi +wc + wu + wa + wd\n",
    "weights=[we/s,wi/s,wc/s,wu/s,wa/s,wd/s]\n",
    "gamma=0.3\n",
    "domain_path='/home/alice/catkin_ws/src/PROPER_Sofar/proper_lpg/domain_prova.pddl'\n",
    "problem_path='/home/alice/catkin_ws/src/PROPER_Sofar/proper_lpg/prova_problem.pddl'\n",
    "init_pb='/home/alice/catkin_ws/src/PROPER_Sofar/proper_lpg/init_problem.pddl'"
   ]
  },
  {
   "attachments": {},
   "cell_type": "markdown",
   "metadata": {},
   "source": [
    "init state\n"
   ]
  },
  {
   "cell_type": "code",
   "execution_count": 9,
   "metadata": {},
   "outputs": [],
   "source": [
    "\n",
    "with open(init_pb,'r') as firstfile, open(problem_path,'w') as secondfile:\n",
    "    for line in firstfile:\n",
    "    \n",
    "        if \"extroversion_coefficient\" in line:\n",
    "            if we!=0:\n",
    "                l=\"        (= (extroversion_coefficient) \"+str(gamma*(we/s)) +\")\\n\"\n",
    "                secondfile.write(l)\n",
    "                p=\"        \"+traits_preds[0]+\"\\n\"\n",
    "                secondfile.write(p)\n",
    "            else:\n",
    "                l=\"        (= (extroversion_coefficient) \"+str(gamma*(wi/s)) +\")\\n\"\n",
    "                secondfile.write(l)\n",
    "                p=\"        \"+traits_preds[1]+\"\\n\"\n",
    "                secondfile.write(p)\n",
    "        elif \"conscientious_coefficient\" in line:\n",
    "            if wc!=0:\n",
    "                l=\"        (= (conscientious_coefficient) \"+str(gamma*(wc/s)) +\")\\n\"\n",
    "                secondfile.write(l)\n",
    "                p=\"        \"+traits_preds[2]+\"\\n\"\n",
    "                secondfile.write(p)\n",
    "            else:\n",
    "                l=\"        (= (conscientious_coefficient) \"+str(gamma*(wu/s)) +\")\\n\"\n",
    "                secondfile.write(l)\n",
    "                p=\"        \"+traits_preds[3]+\"\\n\"\n",
    "                secondfile.write(p)\n",
    "        elif \"agreeableness_coefficient\" in line:\n",
    "            if wa!=0:\n",
    "                l=\"        (= (agreeableness_coefficient) \"+str(gamma*(wa/s)) +\")\\n\"\n",
    "                secondfile.write(l)\n",
    "                p=\"        \"+traits_preds[4]+\"\\n\"\n",
    "                secondfile.write(p)\n",
    "            else:\n",
    "                l=\"        (= (agreeableness_coefficient) \"+str(gamma*(wd/s)) +\")\\n\"\n",
    "                secondfile.write(l)\n",
    "                p=\"        \"+traits_preds[5]+\"\\n\"\n",
    "                secondfile.write(p)\n",
    "        else:\n",
    "            secondfile.write(line)\n"
   ]
  },
  {
   "cell_type": "code",
   "execution_count": 10,
   "metadata": {},
   "outputs": [
    {
     "name": "stdout",
     "output_type": "stream",
     "text": [
      "['feelings']\n",
      "['']\n",
      "['']\n",
      "['']\n",
      "['']\n",
      "['']\n"
     ]
    }
   ],
   "source": [
    "#rospy.loginfo('Reading domain and populate ontology')\n",
    "populate_ontology(domain_path)\n",
    "#rospy.loginfo('Initialize function and predicates in the ontology')\n",
    "initialize_functions_predicates()\n",
    "#rospy.loginfo('Read the problem and set the initial values of predicates  and functions')\n",
    "read_the_problem(problem_path)      \n",
    "        "
   ]
  },
  {
   "attachments": {},
   "cell_type": "markdown",
   "metadata": {},
   "source": [
    "planning"
   ]
  },
  {
   "cell_type": "code",
   "execution_count": 11,
   "metadata": {},
   "outputs": [
    {
     "name": "stdout",
     "output_type": "stream",
     "text": [
      "0\n",
      "0\n",
      "start experiment\n"
     ]
    }
   ],
   "source": [
    "command='./lpg++ -o domain_prova.pddl -f prova_problem.pddl -n 1 -force_neighbour_insertion -inst_with_contraddicting_objects'\n",
    "planning_folder='/home/alice/catkin_ws/src/PROPER_Sofar/proper_lpg/'\n",
    "#rospy.loginfo('planning')\n",
    "return_code=planning(command,planning_folder)  \n",
    "print(return_code)\n",
    "while return_code!=0:\n",
    "    return_code=planning(command,planning_folder)  \n",
    "    print(return_code)\n",
    "print(\"start experiment\")\n"
   ]
  },
  {
   "cell_type": "code",
   "execution_count": 12,
   "metadata": {},
   "outputs": [
    {
     "name": "stdout",
     "output_type": "stream",
     "text": [
      "['GREETINGS', 'COMPUTE_METRIC_AGREE', 'COMPUTE_METRIC_UNSC', 'COMPUTE_METRIC_INTRO', 'FEELINGS']\n"
     ]
    }
   ],
   "source": [
    "plan_path ='/home/alice/catkin_ws/src/PROPER_Sofar/proper_lpg/plan_prova_problem.pddl_1.SOL'\n",
    "executing_actions=read_plan(plan_path)\n",
    "print(executing_actions)"
   ]
  },
  {
   "attachments": {},
   "cell_type": "markdown",
   "metadata": {},
   "source": [
    "executing actions"
   ]
  },
  {
   "cell_type": "code",
   "execution_count": 13,
   "metadata": {},
   "outputs": [
    {
     "name": "stdout",
     "output_type": "stream",
     "text": [
      "GREETINGS--------------Agreeable\n",
      "Action executed: GREETINGS\n"
     ]
    }
   ],
   "source": [
    "#rospy.loginfo('Executing actions')\n",
    "#num =random.randint(0, 9)\n",
    "personality=np.random.choice(traits,p=weights)\n",
    "ac=executing_actions[0]\n",
    "print(ac +\"--------------\"+personality)\n",
    "\n",
    "success=random.randint(0,10)\n",
    "if success==0:\n",
    "    print(\"fail\")\n",
    "else:\n",
    "    ac=executing_actions.pop(0)\n",
    "    print('Action executed: '+ac)\n",
    "    action=ac\n",
    "    updated_actions=executing_actions\n",
    "    \n"
   ]
  },
  {
   "cell_type": "code",
   "execution_count": 14,
   "metadata": {},
   "outputs": [
    {
     "name": "stdout",
     "output_type": "stream",
     "text": [
      "[pp.dur]\n",
      "['GREETINGS                            assign  dur  5  \\n', 'FEELINGS                            assign  dur  5  \\n']\n",
      "['GREETINGS', 'assign', 'dur', '5']\n",
      "pp.dur GREETINGS 0.0\n",
      "pp.dur GREETINGS 5\n"
     ]
    }
   ],
   "source": [
    "#check the perception\n",
    "\n",
    "update_ontology(action)\n"
   ]
  },
  {
   "cell_type": "code",
   "execution_count": 15,
   "metadata": {},
   "outputs": [],
   "source": [
    "perception=True\n",
    "if not perception:\n",
    "        if executing_actions==[]:\n",
    "                print('All action executed')\n",
    "else:\n",
    "    add_predicate(\"happy_emotion\")\n",
    "    remove_predicate(\"happy_emotion_r\")\n",
    "    #add_goal(\"(happy_emotion_r)\")"
   ]
  },
  {
   "cell_type": "code",
   "execution_count": 16,
   "metadata": {},
   "outputs": [
    {
     "data": {
      "text/plain": [
       "True"
      ]
     },
     "execution_count": 16,
     "metadata": {},
     "output_type": "execute_result"
    }
   ],
   "source": [
    "predicates_objects[\"happy_emotion\"].is_grounded"
   ]
  },
  {
   "cell_type": "code",
   "execution_count": 17,
   "metadata": {},
   "outputs": [],
   "source": [
    "add_goal(\"happy_emotion_r\")"
   ]
  },
  {
   "cell_type": "code",
   "execution_count": 18,
   "metadata": {},
   "outputs": [
    {
     "data": {
      "text/plain": [
       "(False, True)"
      ]
     },
     "execution_count": 18,
     "metadata": {},
     "output_type": "execute_result"
    }
   ],
   "source": [
    "predicates_objects[\"happy_emotion_r\"].is_grounded, predicates_objects[\"happy_emotion_r\"].is_goal"
   ]
  },
  {
   "cell_type": "code",
   "execution_count": 19,
   "metadata": {},
   "outputs": [
    {
     "name": "stdout",
     "output_type": "stream",
     "text": [
      "written\n"
     ]
    }
   ],
   "source": [
    "update_problem(problem_path)"
   ]
  },
  {
   "cell_type": "code",
   "execution_count": 20,
   "metadata": {},
   "outputs": [
    {
     "name": "stdout",
     "output_type": "stream",
     "text": [
      "6.0\n",
      "[0.4, 0.4, 0.2, 0.0]\n",
      "a2\n"
     ]
    }
   ],
   "source": [
    "#take the perception\n",
    "pi=\"NT_N\"\n",
    "#extract the action\n",
    "aa,rew=choose_action(pi)\n",
    "print(aa)\n",
    "#exec"
   ]
  },
  {
   "cell_type": "code",
   "execution_count": 21,
   "metadata": {},
   "outputs": [
    {
     "name": "stdout",
     "output_type": "stream",
     "text": [
      "PREV 2\n",
      "AFTER 2.1\n"
     ]
    }
   ],
   "source": [
    "rr=update_weights(aa,\"NT_N\",\"NT_H\")"
   ]
  },
  {
   "cell_type": "code",
   "execution_count": 22,
   "metadata": {},
   "outputs": [
    {
     "data": {
      "text/plain": [
       "2.1"
      ]
     },
     "execution_count": 22,
     "metadata": {},
     "output_type": "execute_result"
    }
   ],
   "source": [
    "change_raward(\"reward_a\",rr)\n",
    "function_objects[\"reward_a\"].has_value"
   ]
  },
  {
   "cell_type": "code",
   "execution_count": 23,
   "metadata": {},
   "outputs": [
    {
     "name": "stdout",
     "output_type": "stream",
     "text": [
      "[pp.agreeableness_level]\n",
      "['AGREE_ACTION                          increase  agreeableness_level  reward_a                                     \\n', 'REACT_SAD_EMOTION_NEG                     decrease  agreeableness_level  * agreeableness_coefficient  react   \\n', 'REACT_ANGER_EMOTION_POS                     increase  agreeableness_level  * agreeableness_coefficient  react   \\n', 'REACT_ANGER_EMOTION_NEG                     decrease  agreeableness_level  * agreeableness_coefficient  react   \\n', 'REACT_HAPPY_EMOTION_NEG                     decrease  agreeableness_level  * agreeableness_coefficient  react   \\n', 'REACT_HAPPY_EMOTION_AGREE                     increase  agreeableness_level  * agreeableness_coefficient  react   \\n', 'APPROACH_TOUCH \\t\\t\\t increase  agreeableness_level  * agreeableness_coefficient  react   \\n', 'AVOID_TOUCH \\t\\t\\t decrease  agreeableness_level  * agreeableness_coefficient  react   \\n', 'COMPUTE_METRIC_DISAGREE             decrease  agreeableness_level  * agreeableness_coefficient  dur   \\n', 'COMPUTE_METRIC_AGREE          decrease  agreeableness_level  * agreeableness_coefficient  dur   \\n']\n",
      "['AGREE_ACTION', 'increase', 'agreeableness_level', 'reward_a']\n",
      "pp.agreeableness_level AGREE_ACTION 10.0\n",
      "pp.agreeableness_level AGREE_ACTION 12.1\n"
     ]
    }
   ],
   "source": [
    "update_ontology(\"AGREE_ACTION\")"
   ]
  },
  {
   "cell_type": "code",
   "execution_count": 24,
   "metadata": {},
   "outputs": [
    {
     "data": {
      "text/plain": [
       "2.1"
      ]
     },
     "execution_count": 24,
     "metadata": {},
     "output_type": "execute_result"
    }
   ],
   "source": [
    "function_objects[\"reward_a\"].has_value"
   ]
  },
  {
   "cell_type": "code",
   "execution_count": 25,
   "metadata": {},
   "outputs": [
    {
     "data": {
      "text/plain": [
       "[pp.agreeableness_level]"
      ]
     },
     "execution_count": 25,
     "metadata": {},
     "output_type": "execute_result"
    }
   ],
   "source": [
    "actions_objects[\"AGREE_ACTION\"].has_effect_function"
   ]
  },
  {
   "cell_type": "code",
   "execution_count": 26,
   "metadata": {},
   "outputs": [
    {
     "data": {
      "text/plain": [
       "[pp.AGREE_ACTION,\n",
       " pp.REACT_SAD_EMOTION_NEG,\n",
       " pp.REACT_ANGER_EMOTION_POS,\n",
       " pp.REACT_ANGER_EMOTION_NEG,\n",
       " pp.REACT_HAPPY_EMOTION_NEG,\n",
       " pp.REACT_HAPPY_EMOTION_AGREE,\n",
       " pp.APPROACH_TOUCH,\n",
       " pp.AVOID_TOUCH,\n",
       " pp.COMPUTE_METRIC_DISAGREE,\n",
       " pp.COMPUTE_METRIC_AGREE]"
      ]
     },
     "execution_count": 26,
     "metadata": {},
     "output_type": "execute_result"
    }
   ],
   "source": [
    "function_objects[\"agreeableness_level\"].is_effect_function"
   ]
  }
 ],
 "metadata": {
  "kernelspec": {
   "display_name": "Python 3",
   "language": "python",
   "name": "python3"
  },
  "language_info": {
   "codemirror_mode": {
    "name": "ipython",
    "version": 3
   },
   "file_extension": ".py",
   "mimetype": "text/x-python",
   "name": "python",
   "nbconvert_exporter": "python",
   "pygments_lexer": "ipython3",
   "version": "3.8.10"
  },
  "orig_nbformat": 4
 },
 "nbformat": 4,
 "nbformat_minor": 2
}
