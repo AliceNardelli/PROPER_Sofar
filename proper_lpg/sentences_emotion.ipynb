{
 "cells": [
  {
   "cell_type": "code",
   "execution_count": 1,
   "metadata": {},
   "outputs": [
    {
     "name": "stderr",
     "output_type": "stream",
     "text": [
      "/home/alice/.local/lib/python3.8/site-packages/tqdm/auto.py:21: TqdmWarning: IProgress not found. Please update jupyter and ipywidgets. See https://ipywidgets.readthedocs.io/en/stable/user_install.html\n",
      "  from .autonotebook import tqdm as notebook_tqdm\n",
      "2023-11-14 16:48:16.727154: I tensorflow/core/platform/cpu_feature_guard.cc:182] This TensorFlow binary is optimized to use available CPU instructions in performance-critical operations.\n",
      "To enable the following instructions: AVX2 FMA, in other operations, rebuild TensorFlow with the appropriate compiler flags.\n",
      "2023-11-14 16:48:17.353612: W tensorflow/compiler/tf2tensorrt/utils/py_utils.cc:38] TF-TRT Warning: Could not find TensorRT\n"
     ]
    }
   ],
   "source": [
    "from transformers import AutoTokenizer, AutoModelForSequenceClassification\n",
    "from transformers import pipeline\n",
    "\n",
    "\n"
   ]
  },
  {
   "cell_type": "code",
   "execution_count": 2,
   "metadata": {},
   "outputs": [],
   "source": [
    "sentences = [\"Quando mi ha detto che il gatto era morto  mi sono messa a pianegere\", \"Oggi è una bellissima giornata\", \"Mi fai troppo arrabbiare quando mi dici così \"]"
   ]
  },
  {
   "cell_type": "code",
   "execution_count": 10,
   "metadata": {},
   "outputs": [
    {
     "data": {
      "text/plain": [
       "[{'label': '0', 'score': 0.778736412525177},\n",
       " {'label': '1', 'score': 0.7228806614875793},\n",
       " {'label': '3', 'score': 0.8531340956687927}]"
      ]
     },
     "execution_count": 10,
     "metadata": {},
     "output_type": "execute_result"
    }
   ],
   "source": [
    "\n",
    "tokenizer = AutoTokenizer.from_pretrained(\"aiknowyou/it-emotion-analyzer\")\n",
    "model = AutoModelForSequenceClassification.from_pretrained(\"aiknowyou/it-emotion-analyzer\")\n",
    "\n",
    "emotion_analysis = pipeline(\"sentiment-analysis\", model=model, tokenizer=tokenizer)\n",
    "emotion_analysis(sentences)"
   ]
  },
  {
   "attachments": {},
   "cell_type": "markdown",
   "metadata": {},
   "source": [
    "\n",
    "    0: sadness\n",
    "    1: joy\n",
    "    2: love\n",
    "    3: anger\n",
    "    4: fear\n",
    "    5: surprise\n"
   ]
  },
  {
   "cell_type": "code",
   "execution_count": 3,
   "metadata": {},
   "outputs": [],
   "source": [
    "\n",
    "\n",
    "tokenizer = AutoTokenizer.from_pretrained('MilaNLProc/feel-it-italian-emotion')\n",
    "model = AutoModelForSequenceClassification.from_pretrained('MilaNLProc/feel-it-italian-emotion')\n",
    "\n",
    "emotion_analysis = pipeline(\"sentiment-analysis\", model=model, tokenizer=tokenizer)\n",
    "out=emotion_analysis(sentences[0],top_k=4)"
   ]
  },
  {
   "cell_type": "code",
   "execution_count": 4,
   "metadata": {},
   "outputs": [
    {
     "data": {
      "text/plain": [
       "[{'label': 'sadness', 'score': 0.9951210618019104},\n",
       " {'label': 'fear', 'score': 0.003921428229659796},\n",
       " {'label': 'joy', 'score': 0.0007393912528641522},\n",
       " {'label': 'anger', 'score': 0.00021813683270011097}]"
      ]
     },
     "execution_count": 4,
     "metadata": {},
     "output_type": "execute_result"
    }
   ],
   "source": [
    "out"
   ]
  },
  {
   "cell_type": "code",
   "execution_count": 7,
   "metadata": {},
   "outputs": [
    {
     "name": "stdout",
     "output_type": "stream",
     "text": [
      "sadness\n",
      "fear\n",
      "joy\n",
      "anger\n"
     ]
    }
   ],
   "source": [
    "for o in out:\n",
    "    print(o[\"label\"])"
   ]
  },
  {
   "cell_type": "code",
   "execution_count": 1,
   "metadata": {},
   "outputs": [],
   "source": [
    "#run the planner\n",
    "import os\n",
    "import subprocess\n",
    "def planning(command,domain_path,plan_file):\n",
    "    #plan the first time and get the list of action\n",
    "    os.chdir (domain_path)\n",
    "    #run the planner\n",
    "    fd_process = subprocess.Popen([command], stdout=subprocess.PIPE, shell=True)\n",
    "    try:\n",
    "        (out, err) = fd_process.communicate()\n",
    "        f = open(plan_file, \"w\")\n",
    "        f.write(out.decode())\n",
    "        f.close()\n",
    "        fd_exit = fd_process.returncode\n",
    "        #print(fd_exit)\n",
    "        return fd_exit\n",
    "    except:\n",
    "        print(\"exrrorrr\")"
   ]
  },
  {
   "cell_type": "code",
   "execution_count": 20,
   "metadata": {},
   "outputs": [],
   "source": [
    "command=\"./ff -p /home/alice/catkin_ws/src/PROPER_Sofar/proper_lpg/ -o goal1_domain.pddl -f prova_problem.pddl\"\n",
    "domain_path=\"/home/alice/catkin_ws/src/PROPER_Sofar/proper_lpg\""
   ]
  },
  {
   "cell_type": "code",
   "execution_count": 21,
   "metadata": {},
   "outputs": [],
   "source": [
    "os.chdir (domain_path)\n",
    "#run the planner\n",
    "fd_process = subprocess.Popen([command], stdout=subprocess.PIPE, shell=True)"
   ]
  },
  {
   "cell_type": "code",
   "execution_count": 22,
   "metadata": {},
   "outputs": [],
   "source": [
    "(out, err) = fd_process.communicate()\n"
   ]
  },
  {
   "cell_type": "code",
   "execution_count": 23,
   "metadata": {},
   "outputs": [],
   "source": []
  },
  {
   "cell_type": "code",
   "execution_count": 24,
   "metadata": {},
   "outputs": [
    {
     "data": {
      "text/plain": [
       "str"
      ]
     },
     "execution_count": 24,
     "metadata": {},
     "output_type": "execute_result"
    }
   ],
   "source": [
    "type(a)"
   ]
  },
  {
   "cell_type": "code",
   "execution_count": 25,
   "metadata": {},
   "outputs": [],
   "source": [
    "f = open(\"plan.pddl\", \"w\")\n",
    "f.write(a)\n",
    "f.close()"
   ]
  },
  {
   "cell_type": "code",
   "execution_count": 26,
   "metadata": {},
   "outputs": [
    {
     "data": {
      "text/plain": [
       "0"
      ]
     },
     "execution_count": 26,
     "metadata": {},
     "output_type": "execute_result"
    }
   ],
   "source": [
    "fd_exit = fd_process.returncode\n",
    "#print(fd_exit)\n",
    "fd_exit"
   ]
  },
  {
   "cell_type": "code",
   "execution_count": 32,
   "metadata": {},
   "outputs": [],
   "source": [
    "output_path=\"/home/alice/catkin_ws/src/PROPER_Sofar/proper_lpg/plan.pddl\""
   ]
  },
  {
   "cell_type": "code",
   "execution_count": 43,
   "metadata": {},
   "outputs": [],
   "source": [
    "if os.path.isfile(output_path):\n",
    "    with open(output_path, \"r\") as plan_file:\n",
    "        raw_plan = plan_file.readlines()\n",
    "    plan=[]\n",
    "    start=False\n",
    "    for p in raw_plan:\n",
    "        if \"step\" in p:\n",
    "             start=True\n",
    "\n",
    "        if \"time spent\" in p:\n",
    "             start=False\n",
    "        if start:\n",
    "            if p[0] !=\":\":\n",
    "                plan.append(p)\n",
    "    actions_to_execute=[]\n",
    "    for i in plan:\n",
    "        a=i[i.find(\":\")+1:i.find(\"\\n\")].replace(\" \",\"\")\n",
    "        if a!=\"\":\n",
    "            actions_to_execute.append(a)   \n",
    "    return actions_to_execute \n",
    "\n",
    "else:\n",
    "        print(\"Plan not found\")"
   ]
  },
  {
   "cell_type": "code",
   "execution_count": 46,
   "metadata": {},
   "outputs": [
    {
     "data": {
      "text/plain": [
       "['step    0: GREETINGS\\n',\n",
       " '        1: INTRO_ACTION\\n',\n",
       " '        2: FEELINGS_SKIP\\n',\n",
       " '        3: CHECK_FINISH\\n',\n",
       " '     \\n',\n",
       " '\\n']"
      ]
     },
     "execution_count": 46,
     "metadata": {},
     "output_type": "execute_result"
    }
   ],
   "source": [
    "plan"
   ]
  },
  {
   "cell_type": "code",
   "execution_count": 54,
   "metadata": {},
   "outputs": [],
   "source": []
  },
  {
   "cell_type": "code",
   "execution_count": 55,
   "metadata": {},
   "outputs": [
    {
     "data": {
      "text/plain": [
       "['GREETINGS', 'INTRO_ACTION', 'FEELINGS_SKIP', 'CHECK_FINISH']"
      ]
     },
     "execution_count": 55,
     "metadata": {},
     "output_type": "execute_result"
    }
   ],
   "source": [
    "actions_to_execute"
   ]
  },
  {
   "cell_type": "code",
   "execution_count": 1,
   "metadata": {},
   "outputs": [],
   "source": [
    "#!/usr/bin/env python\n",
    "# -*- coding: utf-8 -*-\n",
    "\n",
    "from proper_lpg.load_ontology import *"
   ]
  },
  {
   "cell_type": "code",
   "execution_count": 2,
   "metadata": {},
   "outputs": [],
   "source": [
    "import rospy"
   ]
  },
  {
   "cell_type": "code",
   "execution_count": 3,
   "metadata": {},
   "outputs": [],
   "source": [
    "#define the actual personality\n",
    "traits=[\"Extrovert\",\"Introvert\",\"Conscientious\",\"Unscrupulous\",\"Agreeable\",\"Disagreeable\"]\n",
    "traits_preds=[\"(extro)\",\"(intro)\",\"(consc)\",\"(unsc)\",\"(agree)\",\"(disagree)\"]\n",
    "we=0\n",
    "wi=0.5\n",
    "wc=0\n",
    "wu=0\n",
    "wa=0\n",
    "wd=0\n",
    "sum_weights=we +wi +wc + wu + wa + wd\n",
    "weights=[we/sum_weights,wi/sum_weights,wc/sum_weights,wu/sum_weights,wa/sum_weights,wd/sum_weights]\n",
    "gamma=1\n",
    "perception=\"\"\n",
    "new_perception=False"
   ]
  },
  {
   "cell_type": "code",
   "execution_count": 4,
   "metadata": {},
   "outputs": [],
   "source": [
    "domain_path='/home/alice/catkin_ws/src/PROPER_Sofar/proper_lpg/domain_prova.pddl'\n",
    "problem_path='/home/alice/catkin_ws/src/PROPER_Sofar/proper_lpg/prova_problem.pddl'\n",
    "init_pb='/home/alice/catkin_ws/src/PROPER_Sofar/proper_lpg/init_problem.pddl'"
   ]
  },
  {
   "cell_type": "code",
   "execution_count": 5,
   "metadata": {},
   "outputs": [],
   "source": [
    "rospy.loginfo('Executing state INIT')\n",
    "rospy.loginfo('copy pb in the correct file')        \n",
    "with open(init_pb,'r') as firstfile, open(problem_path,'w') as secondfile:\n",
    "    for line in firstfile:\n",
    "    \n",
    "        if \"extroversion_coefficient\" in line:\n",
    "            if we!=0:\n",
    "                l=\"        (= (extroversion_coefficient) \"+str(gamma*(we/sum_weights)) +\")\\n\"\n",
    "                secondfile.write(l)\n",
    "                p=\"        \"+traits_preds[0]+\"\\n\"\n",
    "                secondfile.write(p)\n",
    "            else:\n",
    "                l=\"        (= (extroversion_coefficient) \"+str(gamma*(wi/sum_weights)) +\")\\n\"\n",
    "                secondfile.write(l)\n",
    "                p=\"        \"+traits_preds[1]+\"\\n\"\n",
    "                secondfile.write(p)\n",
    "        elif \"conscientious_coefficient\" in line:\n",
    "            if wc!=0:\n",
    "                l=\"        (= (conscientious_coefficient) \"+str(gamma*(wc/sum_weights)) +\")\\n\"\n",
    "                secondfile.write(l)\n",
    "                p=\"        \"+traits_preds[2]+\"\\n\"\n",
    "                secondfile.write(p)\n",
    "            else:\n",
    "                l=\"        (= (conscientious_coefficient) \"+str(gamma*(wu/sum_weights)) +\")\\n\"\n",
    "                secondfile.write(l)\n",
    "                p=\"        \"+traits_preds[3]+\"\\n\"\n",
    "                secondfile.write(p)\n",
    "        elif \"agreeableness_coefficient\" in line:\n",
    "            if wa!=0:\n",
    "                l=\"        (= (agreeableness_coefficient) \"+str(gamma*(wa/sum_weights)) +\")\\n\"\n",
    "                secondfile.write(l)\n",
    "                p=\"        \"+traits_preds[4]+\"\\n\"\n",
    "                secondfile.write(p)\n",
    "            else:\n",
    "                l=\"        (= (agreeableness_coefficient) \"+str(gamma*(wd/sum_weights)) +\")\\n\"\n",
    "                secondfile.write(l)\n",
    "                p=\"        \"+traits_preds[5]+\"\\n\"\n",
    "                secondfile.write(p)\n",
    "        else:\n",
    "            secondfile.write(line)\n"
   ]
  },
  {
   "cell_type": "code",
   "execution_count": 6,
   "metadata": {},
   "outputs": [
    {
     "name": "stdout",
     "output_type": "stream",
     "text": [
      "first ['EXTRO_ACTION', 'INTRO_ACTION', 'CONSC_ACTION', 'UNSC_ACTION', 'AGREE_ACTION', 'DISAGREE_ACTION', 'NO_REACT_SAD_EMOTION', 'REACT_SAD_EMOTION_NEG', 'NO_REACT_ANGER_EMOTION', 'REACT_ANGER_EMOTION_POS', 'REACT_ANGER_EMOTION_NEG', 'NO_REACT_HAPPY_EMOTION', 'REACT_HAPPY_EMOTION_NEG', 'REACT_HAPPY_EMOTION_AGREE', 'REACT_HAPPY_EMOTION_EXTRO', 'NO_REACT_NEUTRAL_EMOTION', 'REACT_NEUTRAL_EMOTION_POS', 'REACT_NEUTRAL_EMOTION_NEG', 'NO_REACT_TOUCH', 'APPROACH_TOUCH_AGREE', 'APPROACH_TOUCH_EXTRO', 'AVOID_TOUCH_INTRO', 'AVOID_TOUCH_DISAGREE', 'GREETINGS', 'FEELINGS', 'CHECK_FINISH']\n",
      "second ['INTRO_ACTION', 'CONSC_ACTION', 'UNSC_ACTION', 'AGREE_ACTION', 'DISAGREE_ACTION', 'NO_REACT_SAD_EMOTION', 'REACT_SAD_EMOTION_NEG', 'NO_REACT_ANGER_EMOTION', 'REACT_ANGER_EMOTION_POS', 'REACT_ANGER_EMOTION_NEG', 'NO_REACT_HAPPY_EMOTION', 'REACT_HAPPY_EMOTION_NEG', 'REACT_HAPPY_EMOTION_AGREE', 'REACT_HAPPY_EMOTION_EXTRO', 'NO_REACT_NEUTRAL_EMOTION', 'REACT_NEUTRAL_EMOTION_POS', 'REACT_NEUTRAL_EMOTION_NEG', 'NO_REACT_TOUCH', 'APPROACH_TOUCH_AGREE', 'APPROACH_TOUCH_EXTRO', 'AVOID_TOUCH_INTRO', 'AVOID_TOUCH_DISAGREE', 'GREETINGS', 'FEELINGS', 'CHECK_FINISH']\n"
     ]
    },
    {
     "ename": "KeyError",
     "evalue": "'EXTRO_ACTION'",
     "output_type": "error",
     "traceback": [
      "\u001b[0;31m---------------------------------------------------------------------------\u001b[0m",
      "\u001b[0;31mKeyError\u001b[0m                                  Traceback (most recent call last)",
      "Cell \u001b[0;32mIn[6], line 2\u001b[0m\n\u001b[1;32m      1\u001b[0m rospy\u001b[39m.\u001b[39mloginfo(\u001b[39m'\u001b[39m\u001b[39mReading domain and populate ontology\u001b[39m\u001b[39m'\u001b[39m)\n\u001b[0;32m----> 2\u001b[0m populate_ontology(domain_path)\n",
      "File \u001b[0;32m~/catkin_ws/src/PROPER_Sofar/proper_lpg/src/proper_lpg/load_ontology.py:242\u001b[0m, in \u001b[0;36mpopulate_ontology\u001b[0;34m(domain)\u001b[0m\n\u001b[1;32m    240\u001b[0m \u001b[39mfor\u001b[39;00m l \u001b[39min\u001b[39;00m functions:\n\u001b[1;32m    241\u001b[0m     \u001b[39mif\u001b[39;00m check\u001b[39m==\u001b[39ml:\n\u001b[0;32m--> 242\u001b[0m         actions_objects[last_action]\u001b[39m.\u001b[39mhas_effect_function\u001b[39m.\u001b[39mappend(function_objects[check])\n\u001b[1;32m    243\u001b[0m         ops\u001b[39m=\u001b[39mlast_action\u001b[39m.\u001b[39mreplace(\u001b[39m\"\u001b[39m\u001b[39m \u001b[39m\u001b[39m\"\u001b[39m,\u001b[39m\"\u001b[39m\u001b[39m\"\u001b[39m)\u001b[39m+\u001b[39m\u001b[39m\"\u001b[39m\u001b[39m \u001b[39m\u001b[39m\"\u001b[39m\u001b[39m+\u001b[39moperation\n\u001b[1;32m    244\u001b[0m         function_objects[check]\u001b[39m.\u001b[39mhas_operator\u001b[39m.\u001b[39mappend(ops)\n",
      "\u001b[0;31mKeyError\u001b[0m: 'EXTRO_ACTION'"
     ]
    }
   ],
   "source": [
    "rospy.loginfo('Reading domain and populate ontology')\n",
    "populate_ontology(domain_path)\n"
   ]
  },
  {
   "cell_type": "code",
   "execution_count": 72,
   "metadata": {},
   "outputs": [],
   "source": [
    "rospy.loginfo('Initialize function and predicates in the ontology')\n",
    "initialize_functions_predicates()\n",
    "rospy.loginfo('Read the problem and set the initial values of predicates and functions')\n",
    "read_the_problem(problem_path) "
   ]
  }
 ],
 "metadata": {
  "kernelspec": {
   "display_name": "Python 3",
   "language": "python",
   "name": "python3"
  },
  "language_info": {
   "codemirror_mode": {
    "name": "ipython",
    "version": 3
   },
   "file_extension": ".py",
   "mimetype": "text/x-python",
   "name": "python",
   "nbconvert_exporter": "python",
   "pygments_lexer": "ipython3",
   "version": "3.8.10"
  },
  "orig_nbformat": 4
 },
 "nbformat": 4,
 "nbformat_minor": 2
}
