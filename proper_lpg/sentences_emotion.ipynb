{
 "cells": [
  {
   "cell_type": "code",
   "execution_count": null,
   "metadata": {},
   "outputs": [],
   "source": [
    "from transformers import AutoTokenizer, AutoModelForSequenceClassification\n",
    "from transformers import pipeline\n",
    "\n",
    "sentences = [\"Sono mo\", \"Questa è una frase felice\", \"Questa è una frase di stupore\"]\n",
    "\n",
    "tokenizer = AutoTokenizer.from_pretrained(\"aiknowyou/it-emotion-analyzer\")\n",
    "model = AutoModelForSequenceClassification.from_pretrained(\"aiknowyou/it-emotion-analyzer\")\n",
    "\n",
    "emotion_analysis = pipeline(\"sentiment-analysis\", model=model, tokenizer=tokenizer)\n",
    "emotion_analysis(sentences)\n"
   ]
  }
 ],
 "metadata": {
  "language_info": {
   "name": "python"
  },
  "orig_nbformat": 4
 },
 "nbformat": 4,
 "nbformat_minor": 2
}
