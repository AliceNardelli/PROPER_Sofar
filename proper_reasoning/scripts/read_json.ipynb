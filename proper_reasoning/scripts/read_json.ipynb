{
 "cells": [
  {
   "cell_type": "code",
   "execution_count": 21,
   "metadata": {},
   "outputs": [],
   "source": [
    "import requests\n",
    "\n",
    "url='http://127.0.0.1:5020/'\n",
    "headers= {'Content-Type':'application/json'}\n",
    "\n",
    "\n",
    "\n"
   ]
  },
  {
   "cell_type": "code",
   "execution_count": 28,
   "metadata": {},
   "outputs": [],
   "source": [
    "data={\n",
    "      \"emotion\":'emotion_Happy',\n",
    "      \"new_emotion\":\"True\",\n",
    "      \"new_sentence\":\"True\"\n",
    "}"
   ]
  },
  {
   "cell_type": "code",
   "execution_count": 29,
   "metadata": {},
   "outputs": [],
   "source": [
    "resp=requests.put(url+'update_input', json=data, headers=headers)"
   ]
  },
  {
   "cell_type": "code",
   "execution_count": 30,
   "metadata": {},
   "outputs": [],
   "source": [
    "data={\n",
    "       \"Extrovert\":0,\n",
    "       \"Introvert\":0,\n",
    "       \"Agreeable\":0,\n",
    "       \"Disagreeable\":0,\n",
    "       \"Conscientious\":0,\n",
    "       \"Unscrupolous\":1\n",
    "}\n",
    "url1='http://127.0.0.1:5019/'\n",
    "resp=requests.put(url1+'set_personality', json=data, headers=headers)"
   ]
  }
 ],
 "metadata": {
  "kernelspec": {
   "display_name": "Python 3",
   "language": "python",
   "name": "python3"
  },
  "language_info": {
   "codemirror_mode": {
    "name": "ipython",
    "version": 3
   },
   "file_extension": ".py",
   "mimetype": "text/x-python",
   "name": "python",
   "nbconvert_exporter": "python",
   "pygments_lexer": "ipython3",
   "version": "3.8.10"
  },
  "orig_nbformat": 4
 },
 "nbformat": 4,
 "nbformat_minor": 2
}
