{
 "cells": [
  {
   "cell_type": "code",
   "execution_count": 2,
   "metadata": {},
   "outputs": [],
   "source": [
    "import requests\n",
    "\n",
    "\n",
    "headers= {'Content-Type':'application/json'}\n",
    "\n",
    "\n",
    "\n"
   ]
  },
  {
   "cell_type": "code",
   "execution_count": 224,
   "metadata": {},
   "outputs": [],
   "source": [
    "url='http://10.17.76.138:5020/'\n",
    "data={\n",
    "      \"emotion\":'Sad',\n",
    "      \"new_emotion\":\"True\",\n",
    "      \"new_sentence\":\"True\",\n",
    "      \"attention\":\"\",\n",
    "      \"new_attention\":\"False\",\n",
    "}\n",
    "resp=requests.put(url+'update_input', json=data, headers=headers)"
   ]
  },
  {
   "cell_type": "code",
   "execution_count": 223,
   "metadata": {},
   "outputs": [],
   "source": [
    "data={\n",
    "       \"Extrovert\":1,\n",
    "       \"Introvert\":0,\n",
    "       \"Agreeable\":0,\n",
    "       \"Disagreeable\":0,\n",
    "       \"Conscientious\":0,\n",
    "       \"Unscrupolous\":0\n",
    "}\n",
    "url1='http://10.17.76.138:5019/'\n",
    "resp=requests.put(url1+'set_personality', json=data, headers=headers)"
   ]
  },
  {
   "cell_type": "code",
   "execution_count": 169,
   "metadata": {},
   "outputs": [],
   "source": [
    "data={\n",
    "       \"restart\":\"True\"\n",
    "}\n",
    "url1='http://10.17.81.217:5018/'\n",
    "resp=requests.put(url1+'set_restart', json=data, headers=headers)"
   ]
  },
  {
   "cell_type": "code",
   "execution_count": 234,
   "metadata": {},
   "outputs": [
    {
     "name": "stdout",
     "output_type": "stream",
     "text": [
      "{'action': '', 'executed': '', 'finished': '', 'language': '', 'new_action': 'False', 'personality': '', 'pitch': '', 'result': '', 'velocity': '', 'volume': ''}\n"
     ]
    }
   ],
   "source": [
    "data={\n",
    "        \"action\":\"\",\n",
    "        \"language\":\"\",\n",
    "        \"personality\":\"\",\n",
    "        \"pitch\":\"\",\n",
    "        \"volume\":\"\",\n",
    "        \"velocity\":\"\",\n",
    "        \"new_action\":\"\",\n",
    "        \"executed\":\"\"\n",
    "}\n",
    "url1='http://10.17.82.189:5021/'\n",
    "resp=requests.put(url1+'get_action', json=data, headers=headers)\n",
    "print(eval(resp.text))"
   ]
  },
  {
   "cell_type": "code",
   "execution_count": 232,
   "metadata": {},
   "outputs": [
    {
     "name": "stdout",
     "output_type": "stream",
     "text": [
      "{'action': 'a', 'executed': '', 'finished': '', 'language': 'l', 'new_action': 'False', 'personality': 'p', 'pitch': 'p', 'result': '', 'velocity': 'v', 'volume': 'v'}\n"
     ]
    }
   ],
   "source": [
    "data={\n",
    "        \"action\":\"a\",\n",
    "        \"language\":\"l\",\n",
    "        \"personality\":\"p\",\n",
    "        \"pitch\":\"p\",\n",
    "        \"volume\":\"v\",\n",
    "        \"velocity\":\"v\",\n",
    "        \"new_action\":\"False\",\n",
    "        \"executed\":\"\"\n",
    "}\n",
    "url1='http://127.0.0.1:5021/'\n",
    "resp=requests.put(url1+'set_action', json=data, headers=headers)\n",
    "print(eval(resp.text))"
   ]
  },
  {
   "cell_type": "code",
   "execution_count": 236,
   "metadata": {},
   "outputs": [
    {
     "name": "stdout",
     "output_type": "stream",
     "text": [
      "{'action': '', 'executed': '', 'finished': '', 'language': '', 'new_action': 'False', 'personality': '', 'pitch': '', 'result': 'True', 'velocity': '', 'volume': ''}\n"
     ]
    }
   ],
   "source": [
    "data={\n",
    "        \"result\":\"True\",\n",
    "        \"executed\":\"True\",\n",
    "}\n",
    "url1='http://10.17.82.189:5021/'\n",
    "resp=requests.put(url1+'set_exec', json=data, headers=headers)\n",
    "print(eval(resp.text))"
   ]
  },
  {
   "cell_type": "code",
   "execution_count": 111,
   "metadata": {},
   "outputs": [
    {
     "name": "stdout",
     "output_type": "stream",
     "text": [
      "{'action': 'say something to capture the attention', 'executed': 'True', 'finished': 'True', 'language': 'no_active', 'new_action': '', 'personality': 'Extrovert', 'pitch': 'no_active', 'result': '', 'velocity': 'no_active', 'volume': 'no_active'}\n"
     ]
    }
   ],
   "source": [
    "data={\n",
    "}\n",
    "url1='http://127.0.0.1:5021/'\n",
    "resp=requests.put(url1+'get_exec', json=data, headers=headers)\n",
    "print(eval(resp.text))"
   ]
  }
 ],
 "metadata": {
  "kernelspec": {
   "display_name": "Python 3",
   "language": "python",
   "name": "python3"
  },
  "language_info": {
   "codemirror_mode": {
    "name": "ipython",
    "version": 3
   },
   "file_extension": ".py",
   "mimetype": "text/x-python",
   "name": "python",
   "nbconvert_exporter": "python",
   "pygments_lexer": "ipython3",
   "version": "3.8.10"
  },
  "orig_nbformat": 4
 },
 "nbformat": 4,
 "nbformat_minor": 2
}
