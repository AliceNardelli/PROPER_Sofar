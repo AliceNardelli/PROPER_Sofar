{
 "cells": [
  {
   "cell_type": "code",
   "execution_count": null,
   "metadata": {},
   "outputs": [],
   "source": [
    "\n",
    "# Python program to read\n",
    "# json file\n",
    " \n",
    "import json\n",
    " \n",
    "# Opening JSON file\n",
    "f = open('/home/alice/Downloads/MorphCast_frame_to_use.json')\n",
    " \n",
    "# returns JSON object as \n",
    "# a dictionary\n",
    "data = json.load(f)\n"
   ]
  },
  {
   "cell_type": "code",
   "execution_count": 3,
   "metadata": {},
   "outputs": [],
   "source": [
    "import requests\n",
    "\n",
    "url='http://127.0.0.1:5020/'\n",
    "headers= {'Content-Type':'application/json'}\n",
    "\n",
    "data={\n",
    "      \"emotion\":'emotion_Happy',\n",
    "      \"new_emotion\":\"True\",\n",
    "      \"new_sentence\":\"False\"\n",
    "}"
   ]
  },
  {
   "cell_type": "code",
   "execution_count": 4,
   "metadata": {},
   "outputs": [],
   "source": [
    "resp=requests.put(url+'get_input', json=data, headers=headers)"
   ]
  },
  {
   "cell_type": "code",
   "execution_count": 11,
   "metadata": {},
   "outputs": [],
   "source": []
  },
  {
   "cell_type": "code",
   "execution_count": null,
   "metadata": {},
   "outputs": [],
   "source": [
    "i=0\n",
    "\n",
    "emotions_definition=['emotion_Angry', 'emotion_Disgust','emotion_Fear', 'emotion_Happy','emotion_Neutral','emotion_Sad','emotion_Surprise']"
   ]
  },
  {
   "cell_type": "code",
   "execution_count": null,
   "metadata": {},
   "outputs": [],
   "source": [
    "frame=data[\"data\"][\"dataAggregated\"][i]\n",
    "frame_emotions_dict={}\n",
    "max=0\n",
    "em=\"\"\n",
    "for j in range(len(emotions_definition)):\n",
    "  frame_emotions_dict[emotions_definition[j]]=frame[emotions_definition[j]][\"avg\"]\n",
    "  if frame[emotions_definition[j]][\"avg\"]>max:\n",
    "    max=frame[emotions_definition[j]][\"avg\"]\n",
    "    em=emotions_definition[j]"
   ]
  },
  {
   "cell_type": "code",
   "execution_count": null,
   "metadata": {},
   "outputs": [],
   "source": [
    "frame_emotions_dict"
   ]
  },
  {
   "cell_type": "code",
   "execution_count": null,
   "metadata": {},
   "outputs": [],
   "source": [
    "em"
   ]
  },
  {
   "cell_type": "code",
   "execution_count": null,
   "metadata": {},
   "outputs": [],
   "source": [
    "\n",
    "f.close()"
   ]
  }
 ],
 "metadata": {
  "kernelspec": {
   "display_name": "Python 3",
   "language": "python",
   "name": "python3"
  },
  "language_info": {
   "codemirror_mode": {
    "name": "ipython",
    "version": 3
   },
   "file_extension": ".py",
   "mimetype": "text/x-python",
   "name": "python",
   "nbconvert_exporter": "python",
   "pygments_lexer": "ipython3",
   "version": "3.8.10"
  },
  "orig_nbformat": 4
 },
 "nbformat": 4,
 "nbformat_minor": 2
}
