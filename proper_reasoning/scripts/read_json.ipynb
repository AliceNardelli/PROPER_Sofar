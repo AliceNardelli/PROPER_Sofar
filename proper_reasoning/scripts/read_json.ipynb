{
 "cells": [
  {
   "cell_type": "code",
   "execution_count": 1,
   "metadata": {},
   "outputs": [],
   "source": [
    "import requests\n",
    "\n",
    "\n",
    "headers= {'Content-Type':'application/json'}\n",
    "\n",
    "\n",
    "\n"
   ]
  },
  {
   "cell_type": "code",
   "execution_count": 41,
   "metadata": {},
   "outputs": [],
   "source": [
    "url='http://127.0.0.1:5020/'\n",
    "data={\n",
    "      \"emotion\":'Angry',\n",
    "      \"new_emotion\":\"True\",\n",
    "      \"new_sentence\":\"True\",\n",
    "      \"attention\":\"\",\n",
    "      \"new_attention\":\"False\",\n",
    "}\n",
    "resp=requests.put(url+'update_input', json=data, headers=headers)"
   ]
  },
  {
   "cell_type": "code",
   "execution_count": 40,
   "metadata": {},
   "outputs": [],
   "source": [
    "data={\n",
    "       \"Extrovert\":0,\n",
    "       \"Introvert\":0,\n",
    "       \"Agreeable\":0,\n",
    "       \"Disagreeable\":0,\n",
    "       \"Conscientious\":0,\n",
    "       \"Unscrupolous\":1\n",
    "}\n",
    "url1='http://127.0.0.1:5019/'\n",
    "resp=requests.put(url1+'set_personality', json=data, headers=headers)"
   ]
  },
  {
   "cell_type": "code",
   "execution_count": 38,
   "metadata": {},
   "outputs": [],
   "source": [
    "data={\n",
    "       \"restart\":\"True\"\n",
    "}\n",
    "url1='http://127.0.0.1:5018/'\n",
    "resp=requests.put(url1+'set_restart', json=data, headers=headers)"
   ]
  },
  {
   "cell_type": "code",
   "execution_count": 42,
   "metadata": {},
   "outputs": [
    {
     "name": "stdout",
     "output_type": "stream",
     "text": [
      "{'action': 'answer', 'executed': 'False', 'finished': 'False', 'gaze': 'no_active', 'head': 'tilt_down_shaking', 'language': 'Thoughtless', 'new_action': 'True', 'personality': 'Unscrupolous', 'pitch': 'low', 'result': '', 'timestamp': '0', 'velocity': 'rather_high', 'volume': 'low'}\n"
     ]
    }
   ],
   "source": [
    "data={\n",
    "        \"action\":\"\",\n",
    "        \"language\":\"\",\n",
    "        \"personality\":\"\",\n",
    "        \"pitch\":\"\",\n",
    "        \"volume\":\"\",\n",
    "        \"velocity\":\"\",\n",
    "        \"new_action\":\"\",\n",
    "        \"executed\":\"\"\n",
    "}\n",
    "url1='http://127.0.01:5021/'\n",
    "resp=requests.put(url1+'get_action', json=data, headers=headers)\n",
    "print(eval(resp.text))"
   ]
  },
  {
   "cell_type": "code",
   "execution_count": 8,
   "metadata": {},
   "outputs": [
    {
     "name": "stdout",
     "output_type": "stream",
     "text": [
      "{'action': 'a', 'executed': '', 'finished': '', 'gaze': '', 'head': '', 'language': 'l', 'new_action': 'False', 'personality': 'p', 'pitch': 'p', 'result': 'True', 'timestamp': '-1', 'velocity': 'v', 'volume': 'v'}\n"
     ]
    }
   ],
   "source": [
    "data={\n",
    "        \"action\":\"a\",\n",
    "        \"language\":\"l\",\n",
    "        \"personality\":\"p\",\n",
    "        \"pitch\":\"p\",\n",
    "        \"volume\":\"v\",\n",
    "        \"velocity\":\"v\",\n",
    "        \"new_action\":\"False\",\n",
    "        \"executed\":\"\"\n",
    "}\n",
    "url1='http://127.0.0.1:5021/'\n",
    "resp=requests.put(url1+'set_action', json=data, headers=headers)\n",
    "print(eval(resp.text))"
   ]
  },
  {
   "cell_type": "code",
   "execution_count": 36,
   "metadata": {},
   "outputs": [
    {
     "name": "stdout",
     "output_type": "stream",
     "text": [
      "{'action': 'answer with a negation', 'executed': 'False', 'finished': 'False', 'gaze': 'no_active', 'head': 'shaking_low', 'language': 'Competitive', 'new_action': 'False', 'personality': 'Disagreeable', 'pitch': 'mid', 'result': 'True', 'timestamp': '1', 'velocity': 'rather_high', 'volume': 'mid'}\n"
     ]
    }
   ],
   "source": [
    "data={\n",
    "        \"result\":\"True\",\n",
    "        \"executed\":\"True\",\n",
    "}\n",
    "url1='http://127.0.0.1:5021/'\n",
    "resp=requests.put(url1+'set_exec', json=data, headers=headers)\n",
    "print(eval(resp.text))"
   ]
  },
  {
   "cell_type": "code",
   "execution_count": 111,
   "metadata": {},
   "outputs": [
    {
     "name": "stdout",
     "output_type": "stream",
     "text": [
      "{'action': 'say something to capture the attention', 'executed': 'True', 'finished': 'True', 'language': 'no_active', 'new_action': '', 'personality': 'Extrovert', 'pitch': 'no_active', 'result': '', 'velocity': 'no_active', 'volume': 'no_active'}\n"
     ]
    }
   ],
   "source": [
    "data={\n",
    "}\n",
    "url1='http://127.0.0.1:5021/'\n",
    "resp=requests.put(url1+'get_exec', json=data, headers=headers)\n",
    "print(eval(resp.text))"
   ]
  }
 ],
 "metadata": {
  "kernelspec": {
   "display_name": "Python 3",
   "language": "python",
   "name": "python3"
  },
  "language_info": {
   "codemirror_mode": {
    "name": "ipython",
    "version": 3
   },
   "file_extension": ".py",
   "mimetype": "text/x-python",
   "name": "python",
   "nbconvert_exporter": "python",
   "pygments_lexer": "ipython3",
   "version": "3.8.10"
  },
  "orig_nbformat": 4
 },
 "nbformat": 4,
 "nbformat_minor": 2
}
